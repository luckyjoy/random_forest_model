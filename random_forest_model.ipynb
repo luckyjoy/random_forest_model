{
  "cells": [
    {
      "cell_type": "markdown",
      "metadata": {
        "id": "view-in-github",
        "colab_type": "text"
      },
      "source": [
        "<a href=\"https://colab.research.google.com/github/luckyjoy/random_forest_model/blob/main/random_forest_model.ipynb\" target=\"_parent\"><img src=\"https://colab.research.google.com/assets/colab-badge.svg\" alt=\"Open In Colab\"/></a>"
      ]
    },
    {
      "cell_type": "markdown",
      "metadata": {
        "id": "700acefd-8120-42a9-a650-c610467e2a4c"
      },
      "source": [
        "# Build a Random Forest Model"
      ],
      "id": "700acefd-8120-42a9-a650-c610467e2a4c"
    },
    {
      "cell_type": "markdown",
      "metadata": {
        "id": "167f3ab7"
      },
      "source": [
        "## **Introduction**\n",
        "\n",
        "Random Forests are popular statistical learning algorithms. Some of their primary benefits include reducing variance, bias, and the chance of overfitting.\n",
        "\n",
        "You will train, tune, and evaluate a random forest model using data from spreadsheet of survey responses from 129,880 customers. It includes data points such as class, flight distance, and inflight entertainment. Your random forest model will be used to predict whether a customer will be satisfied with their flight experience.\n",
        "\n",
        "**Note:** Because this lab uses a real dataset, this notebook first requires exploratory data analysis, data cleaning, and other manipulations to prepare it for modeling."
      ],
      "id": "167f3ab7"
    },
    {
      "cell_type": "markdown",
      "metadata": {
        "id": "b42252b9-b980-4ee0-8cfd-82f4239b6d1a"
      },
      "source": [
        "## **Step 1: Imports**"
      ],
      "id": "b42252b9-b980-4ee0-8cfd-82f4239b6d1a"
    },
    {
      "cell_type": "markdown",
      "metadata": {
        "id": "jwVaqXCywHpx"
      },
      "source": [
        "Import relevant Python libraries and modules, including `numpy` and `pandas`libraries for data processing; the `pickle` package to save the model; and the `sklearn` library, containing:\n",
        "- The module `ensemble`, which has the function `RandomForestClassifier`\n",
        "- The module `model_selection`, which has the functions `train_test_split`, `PredefinedSplit`, and `GridSearchCV`\n",
        "- The module `metrics`, which has the functions `f1_score`, `precision_score`, `recall_score`, and `accuracy_score`"
      ],
      "id": "jwVaqXCywHpx"
    },
    {
      "cell_type": "code",
      "execution_count": null,
      "metadata": {
        "id": "ebc64d8b"
      },
      "outputs": [],
      "source": [
        "# Import `numpy`, `pandas`, `pickle`, and `sklearn`.\n",
        "# Import the relevant functions from `sklearn.ensemble`, `sklearn.model_selection`, and `sklearn.metrics`.\n",
        "import numpy as np\n",
        "import pandas as pd\n",
        "import pickle as pkl\n",
        "from sklearn.ensemble import RandomForestClassifier\n",
        "from sklearn.model_selection import train_test_split, PredefinedSplit, GridSearchCV\n",
        "from sklearn.metrics import f1_score, precision_score, recall_score, accuracy_score"
      ],
      "id": "ebc64d8b"
    },
    {
      "cell_type": "markdown",
      "metadata": {
        "id": "B6msd7EKhg3X"
      },
      "source": [
        "As shown in this cell, the dataset has been automatically loaded in for you. You do not need to download the .csv file, or provide more code, in order to access the dataset and proceed with this lab. Please continue with this activity by completing the following instructions."
      ],
      "id": "B6msd7EKhg3X"
    },
    {
      "cell_type": "code",
      "execution_count": null,
      "metadata": {
        "id": "ZvRXUsRChmtg"
      },
      "outputs": [],
      "source": [
        "air_data = pd.read_csv(\"Invistico_Airline.csv\")"
      ],
      "id": "ZvRXUsRChmtg"
    },
    {
      "cell_type": "markdown",
      "metadata": {
        "id": "pUvhnNqmvnXP"
      },
      "source": [
        "Now, you're ready to begin cleaning your data."
      ],
      "id": "pUvhnNqmvnXP"
    },
    {
      "cell_type": "markdown",
      "metadata": {
        "id": "7ac7573d"
      },
      "source": [
        "## **Step 2: Data cleaning**"
      ],
      "id": "7ac7573d"
    },
    {
      "cell_type": "markdown",
      "metadata": {
        "id": "555658e4"
      },
      "source": [
        "To get a sense of the data, display the first 10 rows."
      ],
      "id": "555658e4"
    },
    {
      "cell_type": "code",
      "execution_count": null,
      "metadata": {
        "colab": {
          "base_uri": "https://localhost:8080/",
          "height": 682
        },
        "id": "cda01022",
        "outputId": "d0f4a1f0-efb8-4a50-e74d-3af2638c1a98"
      },
      "outputs": [
        {
          "data": {
            "text/html": [
              "<div>\n",
              "<style scoped>\n",
              "    .dataframe tbody tr th:only-of-type {\n",
              "        vertical-align: middle;\n",
              "    }\n",
              "\n",
              "    .dataframe tbody tr th {\n",
              "        vertical-align: top;\n",
              "    }\n",
              "\n",
              "    .dataframe thead th {\n",
              "        text-align: right;\n",
              "    }\n",
              "</style>\n",
              "<table border=\"1\" class=\"dataframe\">\n",
              "  <thead>\n",
              "    <tr style=\"text-align: right;\">\n",
              "      <th></th>\n",
              "      <th>satisfaction</th>\n",
              "      <th>Customer Type</th>\n",
              "      <th>Age</th>\n",
              "      <th>Type of Travel</th>\n",
              "      <th>Class</th>\n",
              "      <th>Flight Distance</th>\n",
              "      <th>Seat comfort</th>\n",
              "      <th>Departure/Arrival time convenient</th>\n",
              "      <th>Food and drink</th>\n",
              "      <th>Gate location</th>\n",
              "      <th>...</th>\n",
              "      <th>Online support</th>\n",
              "      <th>Ease of Online booking</th>\n",
              "      <th>On-board service</th>\n",
              "      <th>Leg room service</th>\n",
              "      <th>Baggage handling</th>\n",
              "      <th>Checkin service</th>\n",
              "      <th>Cleanliness</th>\n",
              "      <th>Online boarding</th>\n",
              "      <th>Departure Delay in Minutes</th>\n",
              "      <th>Arrival Delay in Minutes</th>\n",
              "    </tr>\n",
              "  </thead>\n",
              "  <tbody>\n",
              "    <tr>\n",
              "      <th>0</th>\n",
              "      <td>satisfied</td>\n",
              "      <td>Loyal Customer</td>\n",
              "      <td>65</td>\n",
              "      <td>Personal Travel</td>\n",
              "      <td>Eco</td>\n",
              "      <td>265</td>\n",
              "      <td>0</td>\n",
              "      <td>0</td>\n",
              "      <td>0</td>\n",
              "      <td>2</td>\n",
              "      <td>...</td>\n",
              "      <td>2</td>\n",
              "      <td>3</td>\n",
              "      <td>3</td>\n",
              "      <td>0</td>\n",
              "      <td>3</td>\n",
              "      <td>5</td>\n",
              "      <td>3</td>\n",
              "      <td>2</td>\n",
              "      <td>0</td>\n",
              "      <td>0.0</td>\n",
              "    </tr>\n",
              "    <tr>\n",
              "      <th>1</th>\n",
              "      <td>satisfied</td>\n",
              "      <td>Loyal Customer</td>\n",
              "      <td>47</td>\n",
              "      <td>Personal Travel</td>\n",
              "      <td>Business</td>\n",
              "      <td>2464</td>\n",
              "      <td>0</td>\n",
              "      <td>0</td>\n",
              "      <td>0</td>\n",
              "      <td>3</td>\n",
              "      <td>...</td>\n",
              "      <td>2</td>\n",
              "      <td>3</td>\n",
              "      <td>4</td>\n",
              "      <td>4</td>\n",
              "      <td>4</td>\n",
              "      <td>2</td>\n",
              "      <td>3</td>\n",
              "      <td>2</td>\n",
              "      <td>310</td>\n",
              "      <td>305.0</td>\n",
              "    </tr>\n",
              "    <tr>\n",
              "      <th>2</th>\n",
              "      <td>satisfied</td>\n",
              "      <td>Loyal Customer</td>\n",
              "      <td>15</td>\n",
              "      <td>Personal Travel</td>\n",
              "      <td>Eco</td>\n",
              "      <td>2138</td>\n",
              "      <td>0</td>\n",
              "      <td>0</td>\n",
              "      <td>0</td>\n",
              "      <td>3</td>\n",
              "      <td>...</td>\n",
              "      <td>2</td>\n",
              "      <td>2</td>\n",
              "      <td>3</td>\n",
              "      <td>3</td>\n",
              "      <td>4</td>\n",
              "      <td>4</td>\n",
              "      <td>4</td>\n",
              "      <td>2</td>\n",
              "      <td>0</td>\n",
              "      <td>0.0</td>\n",
              "    </tr>\n",
              "    <tr>\n",
              "      <th>3</th>\n",
              "      <td>satisfied</td>\n",
              "      <td>Loyal Customer</td>\n",
              "      <td>60</td>\n",
              "      <td>Personal Travel</td>\n",
              "      <td>Eco</td>\n",
              "      <td>623</td>\n",
              "      <td>0</td>\n",
              "      <td>0</td>\n",
              "      <td>0</td>\n",
              "      <td>3</td>\n",
              "      <td>...</td>\n",
              "      <td>3</td>\n",
              "      <td>1</td>\n",
              "      <td>1</td>\n",
              "      <td>0</td>\n",
              "      <td>1</td>\n",
              "      <td>4</td>\n",
              "      <td>1</td>\n",
              "      <td>3</td>\n",
              "      <td>0</td>\n",
              "      <td>0.0</td>\n",
              "    </tr>\n",
              "    <tr>\n",
              "      <th>4</th>\n",
              "      <td>satisfied</td>\n",
              "      <td>Loyal Customer</td>\n",
              "      <td>70</td>\n",
              "      <td>Personal Travel</td>\n",
              "      <td>Eco</td>\n",
              "      <td>354</td>\n",
              "      <td>0</td>\n",
              "      <td>0</td>\n",
              "      <td>0</td>\n",
              "      <td>3</td>\n",
              "      <td>...</td>\n",
              "      <td>4</td>\n",
              "      <td>2</td>\n",
              "      <td>2</td>\n",
              "      <td>0</td>\n",
              "      <td>2</td>\n",
              "      <td>4</td>\n",
              "      <td>2</td>\n",
              "      <td>5</td>\n",
              "      <td>0</td>\n",
              "      <td>0.0</td>\n",
              "    </tr>\n",
              "    <tr>\n",
              "      <th>5</th>\n",
              "      <td>satisfied</td>\n",
              "      <td>Loyal Customer</td>\n",
              "      <td>30</td>\n",
              "      <td>Personal Travel</td>\n",
              "      <td>Eco</td>\n",
              "      <td>1894</td>\n",
              "      <td>0</td>\n",
              "      <td>0</td>\n",
              "      <td>0</td>\n",
              "      <td>3</td>\n",
              "      <td>...</td>\n",
              "      <td>2</td>\n",
              "      <td>2</td>\n",
              "      <td>5</td>\n",
              "      <td>4</td>\n",
              "      <td>5</td>\n",
              "      <td>5</td>\n",
              "      <td>4</td>\n",
              "      <td>2</td>\n",
              "      <td>0</td>\n",
              "      <td>0.0</td>\n",
              "    </tr>\n",
              "    <tr>\n",
              "      <th>6</th>\n",
              "      <td>satisfied</td>\n",
              "      <td>Loyal Customer</td>\n",
              "      <td>66</td>\n",
              "      <td>Personal Travel</td>\n",
              "      <td>Eco</td>\n",
              "      <td>227</td>\n",
              "      <td>0</td>\n",
              "      <td>0</td>\n",
              "      <td>0</td>\n",
              "      <td>3</td>\n",
              "      <td>...</td>\n",
              "      <td>5</td>\n",
              "      <td>5</td>\n",
              "      <td>5</td>\n",
              "      <td>0</td>\n",
              "      <td>5</td>\n",
              "      <td>5</td>\n",
              "      <td>5</td>\n",
              "      <td>3</td>\n",
              "      <td>17</td>\n",
              "      <td>15.0</td>\n",
              "    </tr>\n",
              "    <tr>\n",
              "      <th>7</th>\n",
              "      <td>satisfied</td>\n",
              "      <td>Loyal Customer</td>\n",
              "      <td>10</td>\n",
              "      <td>Personal Travel</td>\n",
              "      <td>Eco</td>\n",
              "      <td>1812</td>\n",
              "      <td>0</td>\n",
              "      <td>0</td>\n",
              "      <td>0</td>\n",
              "      <td>3</td>\n",
              "      <td>...</td>\n",
              "      <td>2</td>\n",
              "      <td>2</td>\n",
              "      <td>3</td>\n",
              "      <td>3</td>\n",
              "      <td>4</td>\n",
              "      <td>5</td>\n",
              "      <td>4</td>\n",
              "      <td>2</td>\n",
              "      <td>0</td>\n",
              "      <td>0.0</td>\n",
              "    </tr>\n",
              "    <tr>\n",
              "      <th>8</th>\n",
              "      <td>satisfied</td>\n",
              "      <td>Loyal Customer</td>\n",
              "      <td>56</td>\n",
              "      <td>Personal Travel</td>\n",
              "      <td>Business</td>\n",
              "      <td>73</td>\n",
              "      <td>0</td>\n",
              "      <td>0</td>\n",
              "      <td>0</td>\n",
              "      <td>3</td>\n",
              "      <td>...</td>\n",
              "      <td>5</td>\n",
              "      <td>4</td>\n",
              "      <td>4</td>\n",
              "      <td>0</td>\n",
              "      <td>1</td>\n",
              "      <td>5</td>\n",
              "      <td>4</td>\n",
              "      <td>4</td>\n",
              "      <td>0</td>\n",
              "      <td>0.0</td>\n",
              "    </tr>\n",
              "    <tr>\n",
              "      <th>9</th>\n",
              "      <td>satisfied</td>\n",
              "      <td>Loyal Customer</td>\n",
              "      <td>22</td>\n",
              "      <td>Personal Travel</td>\n",
              "      <td>Eco</td>\n",
              "      <td>1556</td>\n",
              "      <td>0</td>\n",
              "      <td>0</td>\n",
              "      <td>0</td>\n",
              "      <td>3</td>\n",
              "      <td>...</td>\n",
              "      <td>2</td>\n",
              "      <td>2</td>\n",
              "      <td>2</td>\n",
              "      <td>4</td>\n",
              "      <td>5</td>\n",
              "      <td>3</td>\n",
              "      <td>4</td>\n",
              "      <td>2</td>\n",
              "      <td>30</td>\n",
              "      <td>26.0</td>\n",
              "    </tr>\n",
              "  </tbody>\n",
              "</table>\n",
              "<p>10 rows × 22 columns</p>\n",
              "</div>"
            ],
            "text/plain": [
              "  satisfaction   Customer Type  Age   Type of Travel     Class  \\\n",
              "0    satisfied  Loyal Customer   65  Personal Travel       Eco   \n",
              "1    satisfied  Loyal Customer   47  Personal Travel  Business   \n",
              "2    satisfied  Loyal Customer   15  Personal Travel       Eco   \n",
              "3    satisfied  Loyal Customer   60  Personal Travel       Eco   \n",
              "4    satisfied  Loyal Customer   70  Personal Travel       Eco   \n",
              "5    satisfied  Loyal Customer   30  Personal Travel       Eco   \n",
              "6    satisfied  Loyal Customer   66  Personal Travel       Eco   \n",
              "7    satisfied  Loyal Customer   10  Personal Travel       Eco   \n",
              "8    satisfied  Loyal Customer   56  Personal Travel  Business   \n",
              "9    satisfied  Loyal Customer   22  Personal Travel       Eco   \n",
              "\n",
              "   Flight Distance  Seat comfort  Departure/Arrival time convenient  \\\n",
              "0              265             0                                  0   \n",
              "1             2464             0                                  0   \n",
              "2             2138             0                                  0   \n",
              "3              623             0                                  0   \n",
              "4              354             0                                  0   \n",
              "5             1894             0                                  0   \n",
              "6              227             0                                  0   \n",
              "7             1812             0                                  0   \n",
              "8               73             0                                  0   \n",
              "9             1556             0                                  0   \n",
              "\n",
              "   Food and drink  Gate location  ...  Online support  Ease of Online booking  \\\n",
              "0               0              2  ...               2                       3   \n",
              "1               0              3  ...               2                       3   \n",
              "2               0              3  ...               2                       2   \n",
              "3               0              3  ...               3                       1   \n",
              "4               0              3  ...               4                       2   \n",
              "5               0              3  ...               2                       2   \n",
              "6               0              3  ...               5                       5   \n",
              "7               0              3  ...               2                       2   \n",
              "8               0              3  ...               5                       4   \n",
              "9               0              3  ...               2                       2   \n",
              "\n",
              "   On-board service  Leg room service  Baggage handling  Checkin service  \\\n",
              "0                 3                 0                 3                5   \n",
              "1                 4                 4                 4                2   \n",
              "2                 3                 3                 4                4   \n",
              "3                 1                 0                 1                4   \n",
              "4                 2                 0                 2                4   \n",
              "5                 5                 4                 5                5   \n",
              "6                 5                 0                 5                5   \n",
              "7                 3                 3                 4                5   \n",
              "8                 4                 0                 1                5   \n",
              "9                 2                 4                 5                3   \n",
              "\n",
              "   Cleanliness  Online boarding  Departure Delay in Minutes  \\\n",
              "0            3                2                           0   \n",
              "1            3                2                         310   \n",
              "2            4                2                           0   \n",
              "3            1                3                           0   \n",
              "4            2                5                           0   \n",
              "5            4                2                           0   \n",
              "6            5                3                          17   \n",
              "7            4                2                           0   \n",
              "8            4                4                           0   \n",
              "9            4                2                          30   \n",
              "\n",
              "   Arrival Delay in Minutes  \n",
              "0                       0.0  \n",
              "1                     305.0  \n",
              "2                       0.0  \n",
              "3                       0.0  \n",
              "4                       0.0  \n",
              "5                       0.0  \n",
              "6                      15.0  \n",
              "7                       0.0  \n",
              "8                       0.0  \n",
              "9                      26.0  \n",
              "\n",
              "[10 rows x 22 columns]"
            ]
          },
          "execution_count": 3,
          "metadata": {},
          "output_type": "execute_result"
        }
      ],
      "source": [
        "# Display first 10 rows.\n",
        "air_data.head(10)"
      ],
      "id": "cda01022"
    },
    {
      "cell_type": "markdown",
      "metadata": {
        "id": "8XnaSp-1bco5"
      },
      "source": [
        "Now, display the variable names and their data types."
      ],
      "id": "8XnaSp-1bco5"
    },
    {
      "cell_type": "code",
      "execution_count": null,
      "metadata": {
        "colab": {
          "base_uri": "https://localhost:8080/"
        },
        "id": "yjTctqf_cZZk",
        "outputId": "43f19198-4e92-40d0-b3ad-651d9c6d82ff"
      },
      "outputs": [
        {
          "data": {
            "text/plain": [
              "satisfaction                          object\n",
              "Customer Type                         object\n",
              "Age                                    int64\n",
              "Type of Travel                        object\n",
              "Class                                 object\n",
              "Flight Distance                        int64\n",
              "Seat comfort                           int64\n",
              "Departure/Arrival time convenient      int64\n",
              "Food and drink                         int64\n",
              "Gate location                          int64\n",
              "Inflight wifi service                  int64\n",
              "Inflight entertainment                 int64\n",
              "Online support                         int64\n",
              "Ease of Online booking                 int64\n",
              "On-board service                       int64\n",
              "Leg room service                       int64\n",
              "Baggage handling                       int64\n",
              "Checkin service                        int64\n",
              "Cleanliness                            int64\n",
              "Online boarding                        int64\n",
              "Departure Delay in Minutes             int64\n",
              "Arrival Delay in Minutes             float64\n",
              "dtype: object"
            ]
          },
          "execution_count": 4,
          "metadata": {},
          "output_type": "execute_result"
        }
      ],
      "source": [
        "# Display variable names and types.\n",
        "air_data.dtypes"
      ],
      "id": "yjTctqf_cZZk"
    },
    {
      "cell_type": "markdown",
      "metadata": {
        "id": "mZWcyh0ia_mn"
      },
      "source": [
        "**Question:** What do you observe about the differences in data types among the variables included in the data?\n",
        "\n",
        "There are three types of variables included in the data: int64, float64, and object. The object variables are satisfaction, customer type, type of travel, and class."
      ],
      "id": "mZWcyh0ia_mn"
    },
    {
      "cell_type": "markdown",
      "metadata": {
        "id": "yDHCzUpwBqTD"
      },
      "source": [
        "Next, to understand the size of the dataset, identify the number of rows and the number of columns."
      ],
      "id": "yDHCzUpwBqTD"
    },
    {
      "cell_type": "code",
      "execution_count": null,
      "metadata": {
        "colab": {
          "base_uri": "https://localhost:8080/"
        },
        "id": "p-s0dOOgBr-1",
        "outputId": "6f032712-04eb-43ca-b7d1-47e863d2766e"
      },
      "outputs": [
        {
          "data": {
            "text/plain": [
              "(129880, 22)"
            ]
          },
          "execution_count": 5,
          "metadata": {},
          "output_type": "execute_result"
        }
      ],
      "source": [
        "# Identify the number of rows and the number of columns.\n",
        "air_data.shape"
      ],
      "id": "p-s0dOOgBr-1"
    },
    {
      "cell_type": "markdown",
      "source": [],
      "metadata": {
        "id": "nnt9hcw--Jvu"
      },
      "id": "nnt9hcw--Jvu"
    },
    {
      "cell_type": "markdown",
      "metadata": {
        "id": "ada5a098-e0d2-4a59-9ac5-132d8ea1eb3c",
        "tags": []
      },
      "source": [
        "Now, check for missing values in the rows of the data. Start with .isna() to get Booleans indicating whether each value in the data is missing. Then, use .any(axis=1) to get Booleans indicating whether there are any missing values along the columns in each row. Finally, use .sum() to get the number of rows that contain missing values."
      ],
      "id": "ada5a098-e0d2-4a59-9ac5-132d8ea1eb3c"
    },
    {
      "cell_type": "code",
      "execution_count": null,
      "metadata": {
        "colab": {
          "base_uri": "https://localhost:8080/"
        },
        "id": "db9be321-d578-4252-833c-a2dfd0e2e937",
        "outputId": "87ff2ba9-3e52-41bc-bffe-40181eedd382"
      },
      "outputs": [
        {
          "data": {
            "text/plain": [
              "393"
            ]
          },
          "execution_count": 6,
          "metadata": {},
          "output_type": "execute_result"
        }
      ],
      "source": [
        "# Get Booleans to find missing values in data.\n",
        "# Get Booleans to find missing values along columns.\n",
        "# Get the number of rows that contain missing values.\n",
        "air_data.isna().any(axis=1).sum()"
      ],
      "id": "db9be321-d578-4252-833c-a2dfd0e2e937"
    },
    {
      "cell_type": "markdown",
      "metadata": {
        "id": "74e5308a-7607-4277-a508-d0efa10d9116"
      },
      "source": [
        "**Question:** How many rows of data are missing values?**\n",
        "\n",
        "There are 393 rows with missing values."
      ],
      "id": "74e5308a-7607-4277-a508-d0efa10d9116"
    },
    {
      "cell_type": "markdown",
      "metadata": {
        "id": "eb005a73-4621-45b9-8114-30472ce20327"
      },
      "source": [
        "Drop the rows with missing values. This is an important step in data cleaning, as it makes the data more useful for analysis and regression. Then, save the resulting pandas DataFrame in a variable named `air_data_subset`."
      ],
      "id": "eb005a73-4621-45b9-8114-30472ce20327"
    },
    {
      "cell_type": "code",
      "execution_count": null,
      "metadata": {
        "id": "1cee438e-8b1f-4855-855e-3723d1958b69"
      },
      "outputs": [],
      "source": [
        "# Drop missing values.\n",
        "# Save the DataFrame in variable `air_data_subset`.\n",
        "air_data_subset = air_data.dropna(axis=0)"
      ],
      "id": "1cee438e-8b1f-4855-855e-3723d1958b69"
    },
    {
      "cell_type": "markdown",
      "metadata": {
        "id": "0021b18e-4c93-4628-8d0d-2c55a98cc691"
      },
      "source": [
        "Next, display the first 10 rows to examine the data subset."
      ],
      "id": "0021b18e-4c93-4628-8d0d-2c55a98cc691"
    },
    {
      "cell_type": "code",
      "execution_count": null,
      "metadata": {
        "colab": {
          "base_uri": "https://localhost:8080/",
          "height": 682
        },
        "id": "ad471526-eb38-4cc3-afa7-f9542439ea35",
        "outputId": "f10297f7-f4d6-415b-d487-de4a1a9e6ef3"
      },
      "outputs": [
        {
          "data": {
            "text/html": [
              "<div>\n",
              "<style scoped>\n",
              "    .dataframe tbody tr th:only-of-type {\n",
              "        vertical-align: middle;\n",
              "    }\n",
              "\n",
              "    .dataframe tbody tr th {\n",
              "        vertical-align: top;\n",
              "    }\n",
              "\n",
              "    .dataframe thead th {\n",
              "        text-align: right;\n",
              "    }\n",
              "</style>\n",
              "<table border=\"1\" class=\"dataframe\">\n",
              "  <thead>\n",
              "    <tr style=\"text-align: right;\">\n",
              "      <th></th>\n",
              "      <th>satisfaction</th>\n",
              "      <th>Customer Type</th>\n",
              "      <th>Age</th>\n",
              "      <th>Type of Travel</th>\n",
              "      <th>Class</th>\n",
              "      <th>Flight Distance</th>\n",
              "      <th>Seat comfort</th>\n",
              "      <th>Departure/Arrival time convenient</th>\n",
              "      <th>Food and drink</th>\n",
              "      <th>Gate location</th>\n",
              "      <th>...</th>\n",
              "      <th>Online support</th>\n",
              "      <th>Ease of Online booking</th>\n",
              "      <th>On-board service</th>\n",
              "      <th>Leg room service</th>\n",
              "      <th>Baggage handling</th>\n",
              "      <th>Checkin service</th>\n",
              "      <th>Cleanliness</th>\n",
              "      <th>Online boarding</th>\n",
              "      <th>Departure Delay in Minutes</th>\n",
              "      <th>Arrival Delay in Minutes</th>\n",
              "    </tr>\n",
              "  </thead>\n",
              "  <tbody>\n",
              "    <tr>\n",
              "      <th>0</th>\n",
              "      <td>satisfied</td>\n",
              "      <td>Loyal Customer</td>\n",
              "      <td>65</td>\n",
              "      <td>Personal Travel</td>\n",
              "      <td>Eco</td>\n",
              "      <td>265</td>\n",
              "      <td>0</td>\n",
              "      <td>0</td>\n",
              "      <td>0</td>\n",
              "      <td>2</td>\n",
              "      <td>...</td>\n",
              "      <td>2</td>\n",
              "      <td>3</td>\n",
              "      <td>3</td>\n",
              "      <td>0</td>\n",
              "      <td>3</td>\n",
              "      <td>5</td>\n",
              "      <td>3</td>\n",
              "      <td>2</td>\n",
              "      <td>0</td>\n",
              "      <td>0.0</td>\n",
              "    </tr>\n",
              "    <tr>\n",
              "      <th>1</th>\n",
              "      <td>satisfied</td>\n",
              "      <td>Loyal Customer</td>\n",
              "      <td>47</td>\n",
              "      <td>Personal Travel</td>\n",
              "      <td>Business</td>\n",
              "      <td>2464</td>\n",
              "      <td>0</td>\n",
              "      <td>0</td>\n",
              "      <td>0</td>\n",
              "      <td>3</td>\n",
              "      <td>...</td>\n",
              "      <td>2</td>\n",
              "      <td>3</td>\n",
              "      <td>4</td>\n",
              "      <td>4</td>\n",
              "      <td>4</td>\n",
              "      <td>2</td>\n",
              "      <td>3</td>\n",
              "      <td>2</td>\n",
              "      <td>310</td>\n",
              "      <td>305.0</td>\n",
              "    </tr>\n",
              "    <tr>\n",
              "      <th>2</th>\n",
              "      <td>satisfied</td>\n",
              "      <td>Loyal Customer</td>\n",
              "      <td>15</td>\n",
              "      <td>Personal Travel</td>\n",
              "      <td>Eco</td>\n",
              "      <td>2138</td>\n",
              "      <td>0</td>\n",
              "      <td>0</td>\n",
              "      <td>0</td>\n",
              "      <td>3</td>\n",
              "      <td>...</td>\n",
              "      <td>2</td>\n",
              "      <td>2</td>\n",
              "      <td>3</td>\n",
              "      <td>3</td>\n",
              "      <td>4</td>\n",
              "      <td>4</td>\n",
              "      <td>4</td>\n",
              "      <td>2</td>\n",
              "      <td>0</td>\n",
              "      <td>0.0</td>\n",
              "    </tr>\n",
              "    <tr>\n",
              "      <th>3</th>\n",
              "      <td>satisfied</td>\n",
              "      <td>Loyal Customer</td>\n",
              "      <td>60</td>\n",
              "      <td>Personal Travel</td>\n",
              "      <td>Eco</td>\n",
              "      <td>623</td>\n",
              "      <td>0</td>\n",
              "      <td>0</td>\n",
              "      <td>0</td>\n",
              "      <td>3</td>\n",
              "      <td>...</td>\n",
              "      <td>3</td>\n",
              "      <td>1</td>\n",
              "      <td>1</td>\n",
              "      <td>0</td>\n",
              "      <td>1</td>\n",
              "      <td>4</td>\n",
              "      <td>1</td>\n",
              "      <td>3</td>\n",
              "      <td>0</td>\n",
              "      <td>0.0</td>\n",
              "    </tr>\n",
              "    <tr>\n",
              "      <th>4</th>\n",
              "      <td>satisfied</td>\n",
              "      <td>Loyal Customer</td>\n",
              "      <td>70</td>\n",
              "      <td>Personal Travel</td>\n",
              "      <td>Eco</td>\n",
              "      <td>354</td>\n",
              "      <td>0</td>\n",
              "      <td>0</td>\n",
              "      <td>0</td>\n",
              "      <td>3</td>\n",
              "      <td>...</td>\n",
              "      <td>4</td>\n",
              "      <td>2</td>\n",
              "      <td>2</td>\n",
              "      <td>0</td>\n",
              "      <td>2</td>\n",
              "      <td>4</td>\n",
              "      <td>2</td>\n",
              "      <td>5</td>\n",
              "      <td>0</td>\n",
              "      <td>0.0</td>\n",
              "    </tr>\n",
              "    <tr>\n",
              "      <th>5</th>\n",
              "      <td>satisfied</td>\n",
              "      <td>Loyal Customer</td>\n",
              "      <td>30</td>\n",
              "      <td>Personal Travel</td>\n",
              "      <td>Eco</td>\n",
              "      <td>1894</td>\n",
              "      <td>0</td>\n",
              "      <td>0</td>\n",
              "      <td>0</td>\n",
              "      <td>3</td>\n",
              "      <td>...</td>\n",
              "      <td>2</td>\n",
              "      <td>2</td>\n",
              "      <td>5</td>\n",
              "      <td>4</td>\n",
              "      <td>5</td>\n",
              "      <td>5</td>\n",
              "      <td>4</td>\n",
              "      <td>2</td>\n",
              "      <td>0</td>\n",
              "      <td>0.0</td>\n",
              "    </tr>\n",
              "    <tr>\n",
              "      <th>6</th>\n",
              "      <td>satisfied</td>\n",
              "      <td>Loyal Customer</td>\n",
              "      <td>66</td>\n",
              "      <td>Personal Travel</td>\n",
              "      <td>Eco</td>\n",
              "      <td>227</td>\n",
              "      <td>0</td>\n",
              "      <td>0</td>\n",
              "      <td>0</td>\n",
              "      <td>3</td>\n",
              "      <td>...</td>\n",
              "      <td>5</td>\n",
              "      <td>5</td>\n",
              "      <td>5</td>\n",
              "      <td>0</td>\n",
              "      <td>5</td>\n",
              "      <td>5</td>\n",
              "      <td>5</td>\n",
              "      <td>3</td>\n",
              "      <td>17</td>\n",
              "      <td>15.0</td>\n",
              "    </tr>\n",
              "    <tr>\n",
              "      <th>7</th>\n",
              "      <td>satisfied</td>\n",
              "      <td>Loyal Customer</td>\n",
              "      <td>10</td>\n",
              "      <td>Personal Travel</td>\n",
              "      <td>Eco</td>\n",
              "      <td>1812</td>\n",
              "      <td>0</td>\n",
              "      <td>0</td>\n",
              "      <td>0</td>\n",
              "      <td>3</td>\n",
              "      <td>...</td>\n",
              "      <td>2</td>\n",
              "      <td>2</td>\n",
              "      <td>3</td>\n",
              "      <td>3</td>\n",
              "      <td>4</td>\n",
              "      <td>5</td>\n",
              "      <td>4</td>\n",
              "      <td>2</td>\n",
              "      <td>0</td>\n",
              "      <td>0.0</td>\n",
              "    </tr>\n",
              "    <tr>\n",
              "      <th>8</th>\n",
              "      <td>satisfied</td>\n",
              "      <td>Loyal Customer</td>\n",
              "      <td>56</td>\n",
              "      <td>Personal Travel</td>\n",
              "      <td>Business</td>\n",
              "      <td>73</td>\n",
              "      <td>0</td>\n",
              "      <td>0</td>\n",
              "      <td>0</td>\n",
              "      <td>3</td>\n",
              "      <td>...</td>\n",
              "      <td>5</td>\n",
              "      <td>4</td>\n",
              "      <td>4</td>\n",
              "      <td>0</td>\n",
              "      <td>1</td>\n",
              "      <td>5</td>\n",
              "      <td>4</td>\n",
              "      <td>4</td>\n",
              "      <td>0</td>\n",
              "      <td>0.0</td>\n",
              "    </tr>\n",
              "    <tr>\n",
              "      <th>9</th>\n",
              "      <td>satisfied</td>\n",
              "      <td>Loyal Customer</td>\n",
              "      <td>22</td>\n",
              "      <td>Personal Travel</td>\n",
              "      <td>Eco</td>\n",
              "      <td>1556</td>\n",
              "      <td>0</td>\n",
              "      <td>0</td>\n",
              "      <td>0</td>\n",
              "      <td>3</td>\n",
              "      <td>...</td>\n",
              "      <td>2</td>\n",
              "      <td>2</td>\n",
              "      <td>2</td>\n",
              "      <td>4</td>\n",
              "      <td>5</td>\n",
              "      <td>3</td>\n",
              "      <td>4</td>\n",
              "      <td>2</td>\n",
              "      <td>30</td>\n",
              "      <td>26.0</td>\n",
              "    </tr>\n",
              "  </tbody>\n",
              "</table>\n",
              "<p>10 rows × 22 columns</p>\n",
              "</div>"
            ],
            "text/plain": [
              "  satisfaction   Customer Type  Age   Type of Travel     Class  \\\n",
              "0    satisfied  Loyal Customer   65  Personal Travel       Eco   \n",
              "1    satisfied  Loyal Customer   47  Personal Travel  Business   \n",
              "2    satisfied  Loyal Customer   15  Personal Travel       Eco   \n",
              "3    satisfied  Loyal Customer   60  Personal Travel       Eco   \n",
              "4    satisfied  Loyal Customer   70  Personal Travel       Eco   \n",
              "5    satisfied  Loyal Customer   30  Personal Travel       Eco   \n",
              "6    satisfied  Loyal Customer   66  Personal Travel       Eco   \n",
              "7    satisfied  Loyal Customer   10  Personal Travel       Eco   \n",
              "8    satisfied  Loyal Customer   56  Personal Travel  Business   \n",
              "9    satisfied  Loyal Customer   22  Personal Travel       Eco   \n",
              "\n",
              "   Flight Distance  Seat comfort  Departure/Arrival time convenient  \\\n",
              "0              265             0                                  0   \n",
              "1             2464             0                                  0   \n",
              "2             2138             0                                  0   \n",
              "3              623             0                                  0   \n",
              "4              354             0                                  0   \n",
              "5             1894             0                                  0   \n",
              "6              227             0                                  0   \n",
              "7             1812             0                                  0   \n",
              "8               73             0                                  0   \n",
              "9             1556             0                                  0   \n",
              "\n",
              "   Food and drink  Gate location  ...  Online support  Ease of Online booking  \\\n",
              "0               0              2  ...               2                       3   \n",
              "1               0              3  ...               2                       3   \n",
              "2               0              3  ...               2                       2   \n",
              "3               0              3  ...               3                       1   \n",
              "4               0              3  ...               4                       2   \n",
              "5               0              3  ...               2                       2   \n",
              "6               0              3  ...               5                       5   \n",
              "7               0              3  ...               2                       2   \n",
              "8               0              3  ...               5                       4   \n",
              "9               0              3  ...               2                       2   \n",
              "\n",
              "   On-board service  Leg room service  Baggage handling  Checkin service  \\\n",
              "0                 3                 0                 3                5   \n",
              "1                 4                 4                 4                2   \n",
              "2                 3                 3                 4                4   \n",
              "3                 1                 0                 1                4   \n",
              "4                 2                 0                 2                4   \n",
              "5                 5                 4                 5                5   \n",
              "6                 5                 0                 5                5   \n",
              "7                 3                 3                 4                5   \n",
              "8                 4                 0                 1                5   \n",
              "9                 2                 4                 5                3   \n",
              "\n",
              "   Cleanliness  Online boarding  Departure Delay in Minutes  \\\n",
              "0            3                2                           0   \n",
              "1            3                2                         310   \n",
              "2            4                2                           0   \n",
              "3            1                3                           0   \n",
              "4            2                5                           0   \n",
              "5            4                2                           0   \n",
              "6            5                3                          17   \n",
              "7            4                2                           0   \n",
              "8            4                4                           0   \n",
              "9            4                2                          30   \n",
              "\n",
              "   Arrival Delay in Minutes  \n",
              "0                       0.0  \n",
              "1                     305.0  \n",
              "2                       0.0  \n",
              "3                       0.0  \n",
              "4                       0.0  \n",
              "5                       0.0  \n",
              "6                      15.0  \n",
              "7                       0.0  \n",
              "8                       0.0  \n",
              "9                      26.0  \n",
              "\n",
              "[10 rows x 22 columns]"
            ]
          },
          "execution_count": 8,
          "metadata": {},
          "output_type": "execute_result"
        }
      ],
      "source": [
        "# Display the first 10 rows.\n",
        "air_data_subset.head(10)"
      ],
      "id": "ad471526-eb38-4cc3-afa7-f9542439ea35"
    },
    {
      "cell_type": "markdown",
      "metadata": {
        "id": "3c74ad00-3eaf-4868-b3a9-3aa87a5bc0d3",
        "tags": []
      },
      "source": [
        "Confirm that it does not contain any missing values."
      ],
      "id": "3c74ad00-3eaf-4868-b3a9-3aa87a5bc0d3"
    },
    {
      "cell_type": "code",
      "execution_count": null,
      "metadata": {
        "colab": {
          "base_uri": "https://localhost:8080/"
        },
        "id": "f22e303c-2c42-4227-9083-447839e2b300",
        "outputId": "9995365d-6956-4bce-8dcb-ed400478d798"
      },
      "outputs": [
        {
          "data": {
            "text/plain": [
              "satisfaction                         0\n",
              "Customer Type                        0\n",
              "Age                                  0\n",
              "Type of Travel                       0\n",
              "Class                                0\n",
              "Flight Distance                      0\n",
              "Seat comfort                         0\n",
              "Departure/Arrival time convenient    0\n",
              "Food and drink                       0\n",
              "Gate location                        0\n",
              "Inflight wifi service                0\n",
              "Inflight entertainment               0\n",
              "Online support                       0\n",
              "Ease of Online booking               0\n",
              "On-board service                     0\n",
              "Leg room service                     0\n",
              "Baggage handling                     0\n",
              "Checkin service                      0\n",
              "Cleanliness                          0\n",
              "Online boarding                      0\n",
              "Departure Delay in Minutes           0\n",
              "Arrival Delay in Minutes             0\n",
              "dtype: int64"
            ]
          },
          "execution_count": 9,
          "metadata": {},
          "output_type": "execute_result"
        }
      ],
      "source": [
        "# Count of missing values.\n",
        "air_data_subset.isna().sum()"
      ],
      "id": "f22e303c-2c42-4227-9083-447839e2b300"
    },
    {
      "cell_type": "markdown",
      "metadata": {
        "id": "I0Y9g4C17al8"
      },
      "source": [
        "<details>\n",
        "<summary><h4><strong>Hint 1</strong></h4></summary>\n",
        "\n",
        "You can use the `.isna().sum()` to get the number of missing values for each variable.\n",
        "\n",
        "</details>"
      ],
      "id": "I0Y9g4C17al8"
    },
    {
      "cell_type": "markdown",
      "metadata": {
        "id": "23bbe395"
      },
      "source": [
        "Next, convert the categorical features to indicator (one-hot encoded) features.\n",
        "\n",
        "**Note:** The `drop_first` argument can be kept as default (`False`) during one-hot encoding for random forest models, so it does not need to be specified. Also, the target variable, `satisfaction`, does not need to be encoded and will be extracted in a later step."
      ],
      "id": "23bbe395"
    },
    {
      "cell_type": "code",
      "execution_count": null,
      "metadata": {
        "id": "03d00d56"
      },
      "outputs": [],
      "source": [
        "# Convert categorical features to one-hot encoded features.\n",
        "air_data_subset_dummies = pd.get_dummies(air_data_subset,\n",
        "                                         columns=['Customer Type','Type of Travel','Class'])"
      ],
      "id": "03d00d56"
    },
    {
      "cell_type": "markdown",
      "metadata": {
        "id": "a9d3a8d5"
      },
      "source": [
        "<details>\n",
        "<summary><h4><strong>Hint 1</strong></h4></summary>\n",
        "\n",
        "You can use the `pd.get_dummies()` function to convert categorical variables to one-hot encoded variables.\n",
        "</details>"
      ],
      "id": "a9d3a8d5"
    },
    {
      "cell_type": "markdown",
      "metadata": {
        "id": "fY6JM-6zfNLK"
      },
      "source": [
        "**Question:** Why is it necessary to convert categorical data into dummy variables?**\n",
        "\n",
        "It is necessary because the sklearn implementation of `RandomForestClassifier()` requires that categorical features be encoded to numeric, which can be done using dummy variables or one-hot encoding."
      ],
      "id": "fY6JM-6zfNLK"
    },
    {
      "cell_type": "markdown",
      "metadata": {
        "id": "dfe87acc"
      },
      "source": [
        "Next, display the first 10 rows to review the `air_data_subset_dummies`."
      ],
      "id": "dfe87acc"
    },
    {
      "cell_type": "code",
      "execution_count": null,
      "metadata": {
        "colab": {
          "base_uri": "https://localhost:8080/",
          "height": 509
        },
        "id": "139cb903",
        "outputId": "8fde7c8c-9e24-4b2d-d39f-810fafbfdd2b"
      },
      "outputs": [
        {
          "data": {
            "text/html": [
              "<div>\n",
              "<style scoped>\n",
              "    .dataframe tbody tr th:only-of-type {\n",
              "        vertical-align: middle;\n",
              "    }\n",
              "\n",
              "    .dataframe tbody tr th {\n",
              "        vertical-align: top;\n",
              "    }\n",
              "\n",
              "    .dataframe thead th {\n",
              "        text-align: right;\n",
              "    }\n",
              "</style>\n",
              "<table border=\"1\" class=\"dataframe\">\n",
              "  <thead>\n",
              "    <tr style=\"text-align: right;\">\n",
              "      <th></th>\n",
              "      <th>satisfaction</th>\n",
              "      <th>Age</th>\n",
              "      <th>Flight Distance</th>\n",
              "      <th>Seat comfort</th>\n",
              "      <th>Departure/Arrival time convenient</th>\n",
              "      <th>Food and drink</th>\n",
              "      <th>Gate location</th>\n",
              "      <th>Inflight wifi service</th>\n",
              "      <th>Inflight entertainment</th>\n",
              "      <th>Online support</th>\n",
              "      <th>...</th>\n",
              "      <th>Online boarding</th>\n",
              "      <th>Departure Delay in Minutes</th>\n",
              "      <th>Arrival Delay in Minutes</th>\n",
              "      <th>Customer Type_Loyal Customer</th>\n",
              "      <th>Customer Type_disloyal Customer</th>\n",
              "      <th>Type of Travel_Business travel</th>\n",
              "      <th>Type of Travel_Personal Travel</th>\n",
              "      <th>Class_Business</th>\n",
              "      <th>Class_Eco</th>\n",
              "      <th>Class_Eco Plus</th>\n",
              "    </tr>\n",
              "  </thead>\n",
              "  <tbody>\n",
              "    <tr>\n",
              "      <th>0</th>\n",
              "      <td>satisfied</td>\n",
              "      <td>65</td>\n",
              "      <td>265</td>\n",
              "      <td>0</td>\n",
              "      <td>0</td>\n",
              "      <td>0</td>\n",
              "      <td>2</td>\n",
              "      <td>2</td>\n",
              "      <td>4</td>\n",
              "      <td>2</td>\n",
              "      <td>...</td>\n",
              "      <td>2</td>\n",
              "      <td>0</td>\n",
              "      <td>0.0</td>\n",
              "      <td>1</td>\n",
              "      <td>0</td>\n",
              "      <td>0</td>\n",
              "      <td>1</td>\n",
              "      <td>0</td>\n",
              "      <td>1</td>\n",
              "      <td>0</td>\n",
              "    </tr>\n",
              "    <tr>\n",
              "      <th>1</th>\n",
              "      <td>satisfied</td>\n",
              "      <td>47</td>\n",
              "      <td>2464</td>\n",
              "      <td>0</td>\n",
              "      <td>0</td>\n",
              "      <td>0</td>\n",
              "      <td>3</td>\n",
              "      <td>0</td>\n",
              "      <td>2</td>\n",
              "      <td>2</td>\n",
              "      <td>...</td>\n",
              "      <td>2</td>\n",
              "      <td>310</td>\n",
              "      <td>305.0</td>\n",
              "      <td>1</td>\n",
              "      <td>0</td>\n",
              "      <td>0</td>\n",
              "      <td>1</td>\n",
              "      <td>1</td>\n",
              "      <td>0</td>\n",
              "      <td>0</td>\n",
              "    </tr>\n",
              "    <tr>\n",
              "      <th>2</th>\n",
              "      <td>satisfied</td>\n",
              "      <td>15</td>\n",
              "      <td>2138</td>\n",
              "      <td>0</td>\n",
              "      <td>0</td>\n",
              "      <td>0</td>\n",
              "      <td>3</td>\n",
              "      <td>2</td>\n",
              "      <td>0</td>\n",
              "      <td>2</td>\n",
              "      <td>...</td>\n",
              "      <td>2</td>\n",
              "      <td>0</td>\n",
              "      <td>0.0</td>\n",
              "      <td>1</td>\n",
              "      <td>0</td>\n",
              "      <td>0</td>\n",
              "      <td>1</td>\n",
              "      <td>0</td>\n",
              "      <td>1</td>\n",
              "      <td>0</td>\n",
              "    </tr>\n",
              "    <tr>\n",
              "      <th>3</th>\n",
              "      <td>satisfied</td>\n",
              "      <td>60</td>\n",
              "      <td>623</td>\n",
              "      <td>0</td>\n",
              "      <td>0</td>\n",
              "      <td>0</td>\n",
              "      <td>3</td>\n",
              "      <td>3</td>\n",
              "      <td>4</td>\n",
              "      <td>3</td>\n",
              "      <td>...</td>\n",
              "      <td>3</td>\n",
              "      <td>0</td>\n",
              "      <td>0.0</td>\n",
              "      <td>1</td>\n",
              "      <td>0</td>\n",
              "      <td>0</td>\n",
              "      <td>1</td>\n",
              "      <td>0</td>\n",
              "      <td>1</td>\n",
              "      <td>0</td>\n",
              "    </tr>\n",
              "    <tr>\n",
              "      <th>4</th>\n",
              "      <td>satisfied</td>\n",
              "      <td>70</td>\n",
              "      <td>354</td>\n",
              "      <td>0</td>\n",
              "      <td>0</td>\n",
              "      <td>0</td>\n",
              "      <td>3</td>\n",
              "      <td>4</td>\n",
              "      <td>3</td>\n",
              "      <td>4</td>\n",
              "      <td>...</td>\n",
              "      <td>5</td>\n",
              "      <td>0</td>\n",
              "      <td>0.0</td>\n",
              "      <td>1</td>\n",
              "      <td>0</td>\n",
              "      <td>0</td>\n",
              "      <td>1</td>\n",
              "      <td>0</td>\n",
              "      <td>1</td>\n",
              "      <td>0</td>\n",
              "    </tr>\n",
              "    <tr>\n",
              "      <th>5</th>\n",
              "      <td>satisfied</td>\n",
              "      <td>30</td>\n",
              "      <td>1894</td>\n",
              "      <td>0</td>\n",
              "      <td>0</td>\n",
              "      <td>0</td>\n",
              "      <td>3</td>\n",
              "      <td>2</td>\n",
              "      <td>0</td>\n",
              "      <td>2</td>\n",
              "      <td>...</td>\n",
              "      <td>2</td>\n",
              "      <td>0</td>\n",
              "      <td>0.0</td>\n",
              "      <td>1</td>\n",
              "      <td>0</td>\n",
              "      <td>0</td>\n",
              "      <td>1</td>\n",
              "      <td>0</td>\n",
              "      <td>1</td>\n",
              "      <td>0</td>\n",
              "    </tr>\n",
              "    <tr>\n",
              "      <th>6</th>\n",
              "      <td>satisfied</td>\n",
              "      <td>66</td>\n",
              "      <td>227</td>\n",
              "      <td>0</td>\n",
              "      <td>0</td>\n",
              "      <td>0</td>\n",
              "      <td>3</td>\n",
              "      <td>2</td>\n",
              "      <td>5</td>\n",
              "      <td>5</td>\n",
              "      <td>...</td>\n",
              "      <td>3</td>\n",
              "      <td>17</td>\n",
              "      <td>15.0</td>\n",
              "      <td>1</td>\n",
              "      <td>0</td>\n",
              "      <td>0</td>\n",
              "      <td>1</td>\n",
              "      <td>0</td>\n",
              "      <td>1</td>\n",
              "      <td>0</td>\n",
              "    </tr>\n",
              "    <tr>\n",
              "      <th>7</th>\n",
              "      <td>satisfied</td>\n",
              "      <td>10</td>\n",
              "      <td>1812</td>\n",
              "      <td>0</td>\n",
              "      <td>0</td>\n",
              "      <td>0</td>\n",
              "      <td>3</td>\n",
              "      <td>2</td>\n",
              "      <td>0</td>\n",
              "      <td>2</td>\n",
              "      <td>...</td>\n",
              "      <td>2</td>\n",
              "      <td>0</td>\n",
              "      <td>0.0</td>\n",
              "      <td>1</td>\n",
              "      <td>0</td>\n",
              "      <td>0</td>\n",
              "      <td>1</td>\n",
              "      <td>0</td>\n",
              "      <td>1</td>\n",
              "      <td>0</td>\n",
              "    </tr>\n",
              "    <tr>\n",
              "      <th>8</th>\n",
              "      <td>satisfied</td>\n",
              "      <td>56</td>\n",
              "      <td>73</td>\n",
              "      <td>0</td>\n",
              "      <td>0</td>\n",
              "      <td>0</td>\n",
              "      <td>3</td>\n",
              "      <td>5</td>\n",
              "      <td>3</td>\n",
              "      <td>5</td>\n",
              "      <td>...</td>\n",
              "      <td>4</td>\n",
              "      <td>0</td>\n",
              "      <td>0.0</td>\n",
              "      <td>1</td>\n",
              "      <td>0</td>\n",
              "      <td>0</td>\n",
              "      <td>1</td>\n",
              "      <td>1</td>\n",
              "      <td>0</td>\n",
              "      <td>0</td>\n",
              "    </tr>\n",
              "    <tr>\n",
              "      <th>9</th>\n",
              "      <td>satisfied</td>\n",
              "      <td>22</td>\n",
              "      <td>1556</td>\n",
              "      <td>0</td>\n",
              "      <td>0</td>\n",
              "      <td>0</td>\n",
              "      <td>3</td>\n",
              "      <td>2</td>\n",
              "      <td>0</td>\n",
              "      <td>2</td>\n",
              "      <td>...</td>\n",
              "      <td>2</td>\n",
              "      <td>30</td>\n",
              "      <td>26.0</td>\n",
              "      <td>1</td>\n",
              "      <td>0</td>\n",
              "      <td>0</td>\n",
              "      <td>1</td>\n",
              "      <td>0</td>\n",
              "      <td>1</td>\n",
              "      <td>0</td>\n",
              "    </tr>\n",
              "  </tbody>\n",
              "</table>\n",
              "<p>10 rows × 26 columns</p>\n",
              "</div>"
            ],
            "text/plain": [
              "  satisfaction  Age  Flight Distance  Seat comfort  \\\n",
              "0    satisfied   65              265             0   \n",
              "1    satisfied   47             2464             0   \n",
              "2    satisfied   15             2138             0   \n",
              "3    satisfied   60              623             0   \n",
              "4    satisfied   70              354             0   \n",
              "5    satisfied   30             1894             0   \n",
              "6    satisfied   66              227             0   \n",
              "7    satisfied   10             1812             0   \n",
              "8    satisfied   56               73             0   \n",
              "9    satisfied   22             1556             0   \n",
              "\n",
              "   Departure/Arrival time convenient  Food and drink  Gate location  \\\n",
              "0                                  0               0              2   \n",
              "1                                  0               0              3   \n",
              "2                                  0               0              3   \n",
              "3                                  0               0              3   \n",
              "4                                  0               0              3   \n",
              "5                                  0               0              3   \n",
              "6                                  0               0              3   \n",
              "7                                  0               0              3   \n",
              "8                                  0               0              3   \n",
              "9                                  0               0              3   \n",
              "\n",
              "   Inflight wifi service  Inflight entertainment  Online support  ...  \\\n",
              "0                      2                       4               2  ...   \n",
              "1                      0                       2               2  ...   \n",
              "2                      2                       0               2  ...   \n",
              "3                      3                       4               3  ...   \n",
              "4                      4                       3               4  ...   \n",
              "5                      2                       0               2  ...   \n",
              "6                      2                       5               5  ...   \n",
              "7                      2                       0               2  ...   \n",
              "8                      5                       3               5  ...   \n",
              "9                      2                       0               2  ...   \n",
              "\n",
              "   Online boarding  Departure Delay in Minutes  Arrival Delay in Minutes  \\\n",
              "0                2                           0                       0.0   \n",
              "1                2                         310                     305.0   \n",
              "2                2                           0                       0.0   \n",
              "3                3                           0                       0.0   \n",
              "4                5                           0                       0.0   \n",
              "5                2                           0                       0.0   \n",
              "6                3                          17                      15.0   \n",
              "7                2                           0                       0.0   \n",
              "8                4                           0                       0.0   \n",
              "9                2                          30                      26.0   \n",
              "\n",
              "   Customer Type_Loyal Customer  Customer Type_disloyal Customer  \\\n",
              "0                             1                                0   \n",
              "1                             1                                0   \n",
              "2                             1                                0   \n",
              "3                             1                                0   \n",
              "4                             1                                0   \n",
              "5                             1                                0   \n",
              "6                             1                                0   \n",
              "7                             1                                0   \n",
              "8                             1                                0   \n",
              "9                             1                                0   \n",
              "\n",
              "   Type of Travel_Business travel  Type of Travel_Personal Travel  \\\n",
              "0                               0                               1   \n",
              "1                               0                               1   \n",
              "2                               0                               1   \n",
              "3                               0                               1   \n",
              "4                               0                               1   \n",
              "5                               0                               1   \n",
              "6                               0                               1   \n",
              "7                               0                               1   \n",
              "8                               0                               1   \n",
              "9                               0                               1   \n",
              "\n",
              "   Class_Business  Class_Eco  Class_Eco Plus  \n",
              "0               0          1               0  \n",
              "1               1          0               0  \n",
              "2               0          1               0  \n",
              "3               0          1               0  \n",
              "4               0          1               0  \n",
              "5               0          1               0  \n",
              "6               0          1               0  \n",
              "7               0          1               0  \n",
              "8               1          0               0  \n",
              "9               0          1               0  \n",
              "\n",
              "[10 rows x 26 columns]"
            ]
          },
          "execution_count": 11,
          "metadata": {},
          "output_type": "execute_result"
        }
      ],
      "source": [
        "# Display the first 10 rows.\n",
        "air_data_subset_dummies.head(10)"
      ],
      "id": "139cb903"
    },
    {
      "cell_type": "markdown",
      "metadata": {
        "id": "fXzLIPbYYvud"
      },
      "source": [
        "Then, check the variables of air_data_subset_dummies."
      ],
      "id": "fXzLIPbYYvud"
    },
    {
      "cell_type": "code",
      "execution_count": null,
      "metadata": {
        "colab": {
          "base_uri": "https://localhost:8080/"
        },
        "id": "X1V76nRmZoWN",
        "outputId": "9d0a4a46-8f29-43bd-8572-fd9295343370"
      },
      "outputs": [
        {
          "data": {
            "text/plain": [
              "satisfaction                          object\n",
              "Age                                    int64\n",
              "Flight Distance                        int64\n",
              "Seat comfort                           int64\n",
              "Departure/Arrival time convenient      int64\n",
              "Food and drink                         int64\n",
              "Gate location                          int64\n",
              "Inflight wifi service                  int64\n",
              "Inflight entertainment                 int64\n",
              "Online support                         int64\n",
              "Ease of Online booking                 int64\n",
              "On-board service                       int64\n",
              "Leg room service                       int64\n",
              "Baggage handling                       int64\n",
              "Checkin service                        int64\n",
              "Cleanliness                            int64\n",
              "Online boarding                        int64\n",
              "Departure Delay in Minutes             int64\n",
              "Arrival Delay in Minutes             float64\n",
              "Customer Type_Loyal Customer           uint8\n",
              "Customer Type_disloyal Customer        uint8\n",
              "Type of Travel_Business travel         uint8\n",
              "Type of Travel_Personal Travel         uint8\n",
              "Class_Business                         uint8\n",
              "Class_Eco                              uint8\n",
              "Class_Eco Plus                         uint8\n",
              "dtype: object"
            ]
          },
          "execution_count": 12,
          "metadata": {},
          "output_type": "execute_result"
        }
      ],
      "source": [
        "# Display variables.\n",
        "air_data_subset_dummies.dtypes"
      ],
      "id": "X1V76nRmZoWN"
    },
    {
      "cell_type": "markdown",
      "metadata": {
        "id": "GJkFXh96gIA2"
      },
      "source": [
        "**Question:** What changes do you observe after converting the string data to dummy variables?**\n",
        "\n",
        "All of the following changes could be observed:\n",
        "\n",
        "- Customer Type  -->  Customer Type_Loyal Customer and Customer Type_disloyal Customer\n",
        "- Type of Travel -->  Type of Travel_Business travel and Type of Travel_Personal travel\n",
        "- Class          --> Class_Business, Class_Eco, Class_Eco Plus"
      ],
      "id": "GJkFXh96gIA2"
    },
    {
      "cell_type": "markdown",
      "metadata": {
        "id": "6b7f8803-44ee-47cf-b97a-efaf5c0fdd59",
        "tags": []
      },
      "source": [
        "## **Step 3: Model building**"
      ],
      "id": "6b7f8803-44ee-47cf-b97a-efaf5c0fdd59"
    },
    {
      "cell_type": "markdown",
      "metadata": {
        "id": "7sf5gGBFySHv"
      },
      "source": [
        "The first step to building your model is separating the labels (y) from the features (X)."
      ],
      "id": "7sf5gGBFySHv"
    },
    {
      "cell_type": "code",
      "execution_count": null,
      "metadata": {
        "id": "80535d2f-8b1a-4715-b07a-f3734d8cc4c5"
      },
      "outputs": [],
      "source": [
        "# Separate the dataset into labels (y) and features (X).\n",
        "y = air_data_subset_dummies[\"satisfaction\"]\n",
        "X = air_data_subset_dummies.drop(\"satisfaction\", axis=1)"
      ],
      "id": "80535d2f-8b1a-4715-b07a-f3734d8cc4c5"
    },
    {
      "cell_type": "markdown",
      "metadata": {
        "id": "18fn6lxL8O8Q"
      },
      "source": [
        "<details>\n",
        "<summary><h4><strong>Hint 1</strong></h4></summary>\n",
        "\n",
        "Save the labels (the values in the `satisfaction` column) as `y`.\n",
        "\n",
        "Save the features as `X`.\n",
        "\n",
        "</details>"
      ],
      "id": "18fn6lxL8O8Q"
    },
    {
      "cell_type": "markdown",
      "metadata": {
        "id": "12Y_RyrK9pKY"
      },
      "source": [
        "<details>\n",
        "<summary><h4><strong>Hint 2</strong></h4></summary>\n",
        "\n",
        "To obtain the features, drop the `satisfaction` column from the DataFrame.\n",
        "\n",
        "</details>"
      ],
      "id": "12Y_RyrK9pKY"
    },
    {
      "cell_type": "markdown",
      "metadata": {
        "id": "49a6c7ae"
      },
      "source": [
        "Once separated, split the data into train, validate, and test sets."
      ],
      "id": "49a6c7ae"
    },
    {
      "cell_type": "code",
      "execution_count": null,
      "metadata": {
        "id": "0de77cb8"
      },
      "outputs": [],
      "source": [
        "# Separate into train, validate, test sets.\n",
        "X_train, X_test, y_train, y_test = train_test_split(X, y, test_size = 0.25, random_state = 0)\n",
        "X_tr, X_val, y_tr, y_val = train_test_split(X_train, y_train, test_size = 0.25, random_state = 0)\n"
      ],
      "id": "0de77cb8"
    },
    {
      "cell_type": "markdown",
      "metadata": {
        "id": "16c78c74"
      },
      "source": [
        "<details>\n",
        "<summary><h4><strong>Hint 1</strong></h4></summary>\n",
        "\n",
        "Use the `train_test_split()` function twice to create train/validate/test sets, passing in `random_state` for reproducible results.\n",
        "\n",
        "</details>"
      ],
      "id": "16c78c74"
    },
    {
      "cell_type": "markdown",
      "metadata": {
        "id": "sZq3XBIe9pKZ"
      },
      "source": [
        "<details>\n",
        "<summary><h4><strong>Hint 1</strong></h4></summary>\n",
        "\n",
        "Split `X`, `y` to get `X_train`, `X_test`, `y_train`, `y_test`. Set the `test_size` argument to the proportion of data points you want to select for testing.\n",
        "\n",
        "Split `X_train`, `y_train` to get `X_tr`, `X_val`, `y_tr`, `y_val`. Set the `test_size` argument to the proportion of data points you want to select for validation.\n",
        "\n",
        "</details>"
      ],
      "id": "sZq3XBIe9pKZ"
    },
    {
      "cell_type": "markdown",
      "metadata": {
        "id": "59bbd17e-84e5-463c-8806-f2b5286f9ac8",
        "tags": []
      },
      "source": [
        "### Tune the model\n",
        "\n",
        "Now, fit and tune a random forest model with separate validation set. Begin by determining a set of hyperparameters for tuning the model using GridSearchCV."
      ],
      "id": "59bbd17e-84e5-463c-8806-f2b5286f9ac8"
    },
    {
      "cell_type": "code",
      "execution_count": null,
      "metadata": {
        "id": "7bfdf346"
      },
      "outputs": [],
      "source": [
        "# Determine set of hyperparameters.\n",
        "cv_params = {'n_estimators' : [50,100],\n",
        "              'max_depth' : [10,50],\n",
        "              'min_samples_leaf' : [0.5,1],\n",
        "              'min_samples_split' : [0.001, 0.01],\n",
        "              'max_features' : [\"sqrt\"],\n",
        "              'max_samples' : [.5,.9]}"
      ],
      "id": "7bfdf346"
    },
    {
      "cell_type": "markdown",
      "metadata": {
        "id": "zMdizCS0rZB4"
      },
      "source": [
        "<details>\n",
        "<summary><h4><strong>Hint 1</strong></h4></summary>\n",
        "\n",
        "Create a dictionary `cv_params` that maps each hyperparameter name to a list of values. The GridSearch you conduct will set the hyperparameter to each possible value, as specified, and determine which value is optimal.\n",
        "\n",
        "</details>"
      ],
      "id": "zMdizCS0rZB4"
    },
    {
      "cell_type": "markdown",
      "metadata": {
        "id": "Swkbtmw7tMMv"
      },
      "source": [
        "<details>\n",
        "<summary><h4><strong>Hint 2</strong></h4></summary>\n",
        "\n",
        "The main hyperparameters here include `'n_estimators', 'max_depth', 'min_samples_leaf', 'min_samples_split', 'max_features', and 'max_samples'`. These will be the keys in the dictionary `cv_params`.\n",
        "\n",
        "</details>"
      ],
      "id": "Swkbtmw7tMMv"
    },
    {
      "cell_type": "markdown",
      "metadata": {
        "id": "FEDlYXia9pKa"
      },
      "source": [
        "Next, create a list of split indices."
      ],
      "id": "FEDlYXia9pKa"
    },
    {
      "cell_type": "code",
      "execution_count": null,
      "metadata": {
        "id": "a58b4d77-6023-428d-89aa-4d2ac52003dc"
      },
      "outputs": [],
      "source": [
        "# Create list of split indices.\n",
        "split_index = [0 if x in X_val.index else -1 for x in X_train.index]\n",
        "custom_split = PredefinedSplit(split_index)"
      ],
      "id": "a58b4d77-6023-428d-89aa-4d2ac52003dc"
    },
    {
      "cell_type": "markdown",
      "metadata": {
        "id": "USX90GwZt3xU"
      },
      "source": [
        "<details>\n",
        "<summary><h4><strong>Hint 1</strong></h4></summary>\n",
        "\n",
        "Use list comprehension, iterating over the indices of `X_train`. The list can consists of 0s to indicate data points that should be treated as validation data and -1s to indicate data points that should be treated as training data.\n",
        "\n",
        "</details>"
      ],
      "id": "USX90GwZt3xU"
    },
    {
      "cell_type": "markdown",
      "metadata": {
        "id": "IxtLP4AV9pKb"
      },
      "source": [
        "<details>\n",
        "<summary><h4><strong>Hint 2</strong></h4></summary>\n",
        "\n",
        "Use `PredfinedSplit()`, passing in `split_index`, saving the output as `custom_split`. This will serve as a custom split that will identify which data points from the train set should be treated as validation data during GridSearch.\n",
        "\n",
        "</details>"
      ],
      "id": "IxtLP4AV9pKb"
    },
    {
      "cell_type": "markdown",
      "metadata": {
        "id": "1L_8_UJm9pKc"
      },
      "source": [
        "Now, instantiate your model."
      ],
      "id": "1L_8_UJm9pKc"
    },
    {
      "cell_type": "code",
      "execution_count": null,
      "metadata": {
        "id": "U0qvZjujbTKL"
      },
      "outputs": [],
      "source": [
        "# Instantiate model.\n",
        "rf = RandomForestClassifier(random_state=0)"
      ],
      "id": "U0qvZjujbTKL"
    },
    {
      "cell_type": "markdown",
      "metadata": {
        "id": "voetM7-QwI5w"
      },
      "source": [
        "<details>\n",
        "<summary><h4><strong>Hint 1</strong></h4></summary>\n",
        "\n",
        "Use `RandomForestClassifier()`, specifying the `random_state` argument for reproducible results. This will help you instantiate a random forest model, `rf`.\n",
        "\n",
        "</details>"
      ],
      "id": "voetM7-QwI5w"
    },
    {
      "cell_type": "markdown",
      "metadata": {
        "id": "h8o3qdec9pKd"
      },
      "source": [
        "Next, use GridSearchCV to search over the specified parameters."
      ],
      "id": "h8o3qdec9pKd"
    },
    {
      "cell_type": "code",
      "execution_count": null,
      "metadata": {
        "id": "228e65c3"
      },
      "outputs": [],
      "source": [
        "# Search over specified parameters.\n",
        "rf_val = GridSearchCV(rf, cv_params, cv=custom_split, refit='f1', n_jobs = -1, verbose = 1)"
      ],
      "id": "228e65c3"
    },
    {
      "cell_type": "markdown",
      "metadata": {
        "id": "bppjmuqzwZf3"
      },
      "source": [
        "<details>\n",
        "<summary><h4><strong>Hint 1</strong></h4></summary>\n",
        "\n",
        "Use `GridSearchCV()`, passing in `rf` and `cv_params` and specifying `cv` as `custom_split`. Additional arguments that you can specify include: `refit='f1', n_jobs = -1, verbose = 1`.\n",
        "\n",
        "</details>"
      ],
      "id": "bppjmuqzwZf3"
    },
    {
      "cell_type": "markdown",
      "metadata": {
        "id": "tPsHCxam9pKd"
      },
      "source": [
        "Now, fit your model."
      ],
      "id": "tPsHCxam9pKd"
    },
    {
      "cell_type": "code",
      "execution_count": null,
      "metadata": {
        "colab": {
          "base_uri": "https://localhost:8080/"
        },
        "id": "gw_woSKtfsAk",
        "outputId": "4928a458-1ff2-476e-9a0b-df5504b4ebe3"
      },
      "outputs": [
        {
          "name": "stdout",
          "output_type": "stream",
          "text": [
            "Fitting 1 folds for each of 32 candidates, totalling 32 fits\n"
          ]
        },
        {
          "name": "stderr",
          "output_type": "stream",
          "text": [
            "[Parallel(n_jobs=-1)]: Using backend LokyBackend with 32 concurrent workers.\n",
            "[Parallel(n_jobs=-1)]: Done   2 out of  32 | elapsed:   23.0s remaining:  5.7min\n"
          ]
        }
      ],
      "source": [
        "%%time\n",
        "\n",
        "# Fit the model.\n",
        "rf_val.fit(X_train, y_train)"
      ],
      "id": "gw_woSKtfsAk"
    },
    {
      "cell_type": "markdown",
      "metadata": {
        "id": "aUYHWoZsyJs0"
      },
      "source": [
        "<details>\n",
        "<summary><h4><strong>Hint 1</strong></h4></summary>\n",
        "\n",
        "Use the `fit()` method to train the GridSearchCV model on `X_train` and `y_train`.\n",
        "\n",
        "</details>"
      ],
      "id": "aUYHWoZsyJs0"
    },
    {
      "cell_type": "markdown",
      "metadata": {
        "id": "7zO-_oLX9pKe"
      },
      "source": [
        "<details>\n",
        "<summary><h4><strong>Hint 2</strong></h4></summary>\n",
        "\n",
        "Add the magic function `%%time` to keep track of the amount of time it takes to fit the model and display this information once execution has completed. Remember that this code must be the first line in the cell.\n",
        "\n",
        "</details>"
      ],
      "id": "7zO-_oLX9pKe"
    },
    {
      "cell_type": "markdown",
      "metadata": {
        "id": "TwqPyix_9pKf"
      },
      "source": [
        "Finally, obtain the optimal parameters."
      ],
      "id": "TwqPyix_9pKf"
    },
    {
      "cell_type": "code",
      "execution_count": null,
      "metadata": {
        "id": "c76a0bd9"
      },
      "outputs": [],
      "source": [
        "# Obtain optimal parameters.\n",
        "rf_val.best_params_"
      ],
      "id": "c76a0bd9"
    },
    {
      "cell_type": "markdown",
      "metadata": {
        "id": "604a475e"
      },
      "source": [
        "<details>\n",
        "<summary><h4><strong>Hint 1</strong></h4></summary>\n",
        "\n",
        "Use the `best_params_` attribute to obtain the optimal values for the hyperparameters from the GridSearchCV model.\n",
        "\n",
        "</details>"
      ],
      "id": "604a475e"
    },
    {
      "cell_type": "markdown",
      "metadata": {
        "id": "70fc3ec6-a89a-4b25-a574-29f9d4325694"
      },
      "source": [
        "## **Step 4: Results and evaluation**"
      ],
      "id": "70fc3ec6-a89a-4b25-a574-29f9d4325694"
    },
    {
      "cell_type": "markdown",
      "metadata": {
        "id": "zXqywQtvyrS1"
      },
      "source": [
        "Use the selected model to predict on your test data. Use the optimal parameters found via GridSearchCV."
      ],
      "id": "zXqywQtvyrS1"
    },
    {
      "cell_type": "code",
      "execution_count": null,
      "metadata": {
        "id": "c6b8aa2d-984f-467a-b52a-e7f21d603a8c"
      },
      "outputs": [],
      "source": [
        "# Use optimal parameters on GridSearchCV.\n",
        "rf_opt = RandomForestClassifier(n_estimators = 50, max_depth = 50,\n",
        "                                min_samples_leaf = 1, min_samples_split = 0.001,\n",
        "                                max_features=\"sqrt\", max_samples = 0.9, random_state = 0)"
      ],
      "id": "c6b8aa2d-984f-467a-b52a-e7f21d603a8c"
    },
    {
      "cell_type": "markdown",
      "metadata": {
        "id": "Tu3sgtdRzmmJ"
      },
      "source": [
        "<details>\n",
        "<summary><h4><strong>Hint 1</strong></h4></summary>\n",
        "\n",
        "Use `RandomForestClassifier()`, specifying the `random_state` argument for reproducible results and passing in the optimal hyperparameters found in the previous step. To distinguish this from the previous random forest model, consider naming this variable `rf_opt`.\n",
        "\n",
        "</details>"
      ],
      "id": "Tu3sgtdRzmmJ"
    },
    {
      "cell_type": "markdown",
      "metadata": {
        "id": "iY_ho3OE9pKh"
      },
      "source": [
        "Once again, fit the optimal model."
      ],
      "id": "iY_ho3OE9pKh"
    },
    {
      "cell_type": "code",
      "execution_count": null,
      "metadata": {
        "id": "iJ7MkQ3hjh3u"
      },
      "outputs": [],
      "source": [
        "# Fit the optimal model.\n",
        "rf_opt.fit(X_train, y_train)"
      ],
      "id": "iJ7MkQ3hjh3u"
    },
    {
      "cell_type": "markdown",
      "metadata": {
        "id": "SAKs_7Ms0HAO"
      },
      "source": [
        "<details>\n",
        "<summary><h4><strong>Hint 1</strong></h4></summary>\n",
        "\n",
        "Use the `fit()` method to train `rf_opt` on `X_train` and `y_train`.\n",
        "\n",
        "</details>"
      ],
      "id": "SAKs_7Ms0HAO"
    },
    {
      "cell_type": "markdown",
      "metadata": {
        "id": "YKasDzdl9pKh"
      },
      "source": [
        "And predict on the test set using the optimal model."
      ],
      "id": "YKasDzdl9pKh"
    },
    {
      "cell_type": "code",
      "execution_count": null,
      "metadata": {
        "id": "2cc40ec1-5fa4-4803-9021-abea9699a804"
      },
      "outputs": [],
      "source": [
        "# Predict on test set.\n",
        "y_pred = rf_opt.predict(X_test)"
      ],
      "id": "2cc40ec1-5fa4-4803-9021-abea9699a804"
    },
    {
      "cell_type": "markdown",
      "metadata": {
        "id": "4df36d33"
      },
      "source": [
        "<details>\n",
        "<summary><h4><strong>Hint 1</strong></h4></summary>\n",
        "\n",
        "You can call the `predict()` function to make predictions on `X_test` using `rf_opt`. Save the predictions now (for example, as `y_pred`), to use them later for comparing to the true labels.\n",
        "\n",
        "</details>"
      ],
      "id": "4df36d33"
    },
    {
      "cell_type": "markdown",
      "metadata": {
        "id": "153a8200"
      },
      "source": [
        "### Obtain performance scores"
      ],
      "id": "153a8200"
    },
    {
      "cell_type": "markdown",
      "metadata": {
        "id": "cea208e9"
      },
      "source": [
        "First, get your precision score."
      ],
      "id": "cea208e9"
    },
    {
      "cell_type": "code",
      "execution_count": null,
      "metadata": {
        "id": "6913aa4b"
      },
      "outputs": [],
      "source": [
        "# Get precision score.\n",
        "pc_test = precision_score(y_test, y_pred, pos_label = \"satisfied\")\n",
        "print(\"The precision score is {pc:.3f}\".format(pc = pc_test))"
      ],
      "id": "6913aa4b"
    },
    {
      "cell_type": "markdown",
      "metadata": {
        "id": "XVtVtsLV0ddI"
      },
      "source": [
        "<details>\n",
        "<summary><h4><strong>Hint 1</strong></h4></summary>\n",
        "\n",
        "You can call the `precision_score()` function from `sklearn.metrics`, passing in `y_test` and `y_pred` and specifying the `pos_label` argument as `\"satisfied\"`.\n",
        "</details>"
      ],
      "id": "XVtVtsLV0ddI"
    },
    {
      "cell_type": "markdown",
      "metadata": {
        "id": "66dda49b"
      },
      "source": [
        "Then, collect the recall score."
      ],
      "id": "66dda49b"
    },
    {
      "cell_type": "code",
      "execution_count": null,
      "metadata": {
        "id": "dd971df6"
      },
      "outputs": [],
      "source": [
        "# Get recall score.\n",
        "rc_test = recall_score(y_test, y_pred, pos_label = \"satisfied\")\n",
        "print(\"The recall score is {rc:.3f}\".format(rc = rc_test))"
      ],
      "id": "dd971df6"
    },
    {
      "cell_type": "markdown",
      "metadata": {
        "id": "5XUaS34s1yH_"
      },
      "source": [
        "<details>\n",
        "<summary><h4><strong>Hint 1</strong></h4></summary>\n",
        "\n",
        "You can call the `recall_score()` function from `sklearn.metrics`, passing in `y_test` and `y_pred` and specifying the `pos_label` argument as `\"satisfied\"`.\n",
        "</details>"
      ],
      "id": "5XUaS34s1yH_"
    },
    {
      "cell_type": "markdown",
      "metadata": {
        "id": "ea594a68"
      },
      "source": [
        "Next, obtain your accuracy score."
      ],
      "id": "ea594a68"
    },
    {
      "cell_type": "code",
      "execution_count": null,
      "metadata": {
        "id": "011b8b71"
      },
      "outputs": [],
      "source": [
        "# Get accuracy score.\n",
        "\n",
        "### YOUR CODE HERE ###\n",
        "\n",
        "ac_test = accuracy_score(y_test, y_pred)\n",
        "print(\"The accuracy score is {ac:.3f}\".format(ac = ac_test))"
      ],
      "id": "011b8b71"
    },
    {
      "cell_type": "markdown",
      "metadata": {
        "id": "QProyXMS10zG"
      },
      "source": [
        "<details>\n",
        "<summary><h4><strong>Hint 1</strong></h4></summary>\n",
        "\n",
        "You can call the `accuracy_score()` function from `sklearn.metrics`, passing in `y_test` and `y_pred` and specifying the `pos_label` argument as `\"satisfied\"`.\n",
        "</details>"
      ],
      "id": "QProyXMS10zG"
    },
    {
      "cell_type": "markdown",
      "metadata": {
        "id": "871ea5cb"
      },
      "source": [
        "Finally, collect your F1-score."
      ],
      "id": "871ea5cb"
    },
    {
      "cell_type": "code",
      "execution_count": null,
      "metadata": {
        "id": "490fcb3e"
      },
      "outputs": [],
      "source": [
        "# Get F1 score.\n",
        "f1_test = f1_score(y_test, y_pred, pos_label = \"satisfied\")\n",
        "print(\"The F1 score is {f1:.3f}\".format(f1 = f1_test))"
      ],
      "id": "490fcb3e"
    },
    {
      "cell_type": "markdown",
      "metadata": {
        "id": "vtBQWSVs13dT"
      },
      "source": [
        "<details>\n",
        "<summary><h4><strong>Hint 1</strong></h4></summary>\n",
        "\n",
        "You can call the `f1_score()` function from `sklearn.metrics`, passing in `y_test` and `y_pred` and specifying the `pos_label` argument as `\"satisfied\"`.\n",
        "</details>"
      ],
      "id": "vtBQWSVs13dT"
    },
    {
      "cell_type": "markdown",
      "metadata": {
        "id": "1edc4c95-1cf4-4e05-b2a2-dc18cadb3d63"
      },
      "source": [
        "**Question:** How is the F1-score calculated?\n",
        "\n",
        "F1 scores are calculated using the following formula:\n",
        "\n",
        "F1 = 2 * (precision * recall) / (precision + recall)"
      ],
      "id": "1edc4c95-1cf4-4e05-b2a2-dc18cadb3d63"
    },
    {
      "cell_type": "markdown",
      "metadata": {
        "id": "cfkbwjlvcX3k"
      },
      "source": [
        "**Question:** What are the pros and cons of performing the model selection using test data instead of a separate validation dataset?\n",
        "\n",
        "Pros: <br />\n",
        "*  The coding workload is reduced.\n",
        "*  The scripts for data splitting are shorter.\n",
        "*  It's only  necessary to evaluate test dataset performance once, instead of two evaluations (validate and test).\n",
        "\n",
        "Cons: <br />\n",
        "* If a model is evaluated using samples that were also used to build or fine-tune that model, it likely will provide a biased evaluation.\n",
        "* A potential overfitting issue could happen when fitting the model's scores on the test data.\n",
        "\n"
      ],
      "id": "cfkbwjlvcX3k"
    },
    {
      "cell_type": "markdown",
      "metadata": {
        "id": "510b2158-2813-4600-868e-a909595a2366"
      },
      "source": [
        "### Evaluate the model\n",
        "\n",
        "Now that you have results, evaluate the model."
      ],
      "id": "510b2158-2813-4600-868e-a909595a2366"
    },
    {
      "cell_type": "markdown",
      "metadata": {
        "id": "57771b26"
      },
      "source": [
        "**Question:** What are the four basic parameters for evaluating the performance of a classification model?\n",
        "\n",
        "1. True positives (TP): These are correctly predicted positive values, which means the value of actual and predicted classes are positive.\n",
        "\n",
        "2. True negatives (TN): These are correctly predicted negative values, which means the value of the actual and predicted classes are negative.\n",
        "\n",
        "3. False positives (FP): This occurs when the value of the actual class is negative and the value of the predicted class is positive.\n",
        "\n",
        "4. False negatives (FN): This occurs when the value of the actual class is positive and the value of the predicted class in negative.\n",
        "\n",
        "**Reminder:** When fitting and tuning classification modeld, data professioals aim to minimize false positives and false negatives."
      ],
      "id": "57771b26"
    },
    {
      "cell_type": "markdown",
      "metadata": {
        "id": "LojJPkIrjNbJ"
      },
      "source": [
        "**Question:**  What do the four scores demonstrate about your model, and how do you calculate them?\n",
        "\n",
        "- Accuracy (TP+TN/TP+FP+FN+TN): The ratio of correctly predicted observations to total observations.\n",
        "\n",
        "- Precision (TP/TP+FP): The ratio of correctly predicted positive observations to total predicted positive observations.\n",
        "\n",
        "- Recall (Sensitivity, TP/TP+FN): The ratio of correctly predicted positive observations to all observations in actual class.\n",
        "\n",
        "- F1 score: The harmonic average of precision and recall, which takes into account both false positives and false negatives."
      ],
      "id": "LojJPkIrjNbJ"
    },
    {
      "cell_type": "markdown",
      "metadata": {
        "id": "rgFj_nMabpsf"
      },
      "source": [
        "Calculate the scores: precision score, recall score, accuracy score, F1 score."
      ],
      "id": "rgFj_nMabpsf"
    },
    {
      "cell_type": "code",
      "execution_count": null,
      "metadata": {
        "id": "RUT99rnqOds3"
      },
      "outputs": [],
      "source": [
        "# Precision score on test data set.\n",
        "print(\"\\nThe precision score is: {pc:.3f}\".format(pc = pc_test), \"for the test set,\", \"\\nwhich means of all positive predictions,\", \"{pc_pct:.1f}% prediction are true positive.\".format(pc_pct = pc_test * 100))"
      ],
      "id": "RUT99rnqOds3"
    },
    {
      "cell_type": "code",
      "execution_count": null,
      "metadata": {
        "id": "GTiaHUVvTiUN"
      },
      "outputs": [],
      "source": [
        "# Recall score on test data set.\n",
        "print(\"\\nThe recall score is: {rc:.3f}\".format(rc = rc_test), \"for the test set,\", \"\\nwhich means of which means of all real positive cases in test set,\", \"{rc_pct:.1f}% are  predicted positive.\".format(rc_pct = rc_test * 100))"
      ],
      "id": "GTiaHUVvTiUN"
    },
    {
      "cell_type": "code",
      "execution_count": null,
      "metadata": {
        "id": "VrYHruUdV1Os"
      },
      "outputs": [],
      "source": [
        "# Accuracy score on test data set.\n",
        "print(\"\\nThe accuracy score is: {ac:.3f}\".format(ac = ac_test), \"for the test set,\", \"\\nwhich means of all cases in test set,\", \"{ac_pct:.1f}% are predicted true positive or true negative.\".format(ac_pct = ac_test * 100))"
      ],
      "id": "VrYHruUdV1Os"
    },
    {
      "cell_type": "code",
      "execution_count": null,
      "metadata": {
        "id": "pKGc64U2YbL1"
      },
      "outputs": [],
      "source": [
        "# F1 score on test data set.\n",
        "print(\"\\nThe F1 score is: {f1:.3f}\".format(f1 = f1_test), \"for the test set,\", \"\\nwhich means the test set's harmonic mean is {f1_pct:.1f}%.\".format(f1_pct = f1_test * 100))"
      ],
      "id": "pKGc64U2YbL1"
    },
    {
      "cell_type": "markdown",
      "metadata": {
        "id": "PLB1zXSe9pKr"
      },
      "source": [
        "**Question:** How does this model perform based on the four scores?\n",
        "\n",
        "The model performs well according to all 4 performance metrics. The model's precision score is slightly better than the 3 other metrics."
      ],
      "id": "PLB1zXSe9pKr"
    },
    {
      "cell_type": "markdown",
      "metadata": {
        "id": "PaKUSbqDW28K"
      },
      "source": [
        "### Evaluate the model\n",
        "\n",
        "Finally, create a table of results that you can use to evaluate the performace of your model."
      ],
      "id": "PaKUSbqDW28K"
    },
    {
      "cell_type": "code",
      "execution_count": null,
      "metadata": {
        "id": "6L7AgdeldsKZ",
        "scrolled": true
      },
      "outputs": [],
      "source": [
        "# Create table of results.\n",
        "table = pd.DataFrame({'Model': [\"Tuned Decision Tree\", \"Tuned Random Forest\"],\n",
        "                        'F1':  [0.945422, f1_test],\n",
        "                        'Recall': [0.935863, rc_test],\n",
        "                        'Precision': [0.955197, pc_test],\n",
        "                        'Accuracy': [0.940864, ac_test]\n",
        "                      }\n",
        "                    )\n",
        "table"
      ],
      "id": "6L7AgdeldsKZ"
    },
    {
      "cell_type": "markdown",
      "metadata": {
        "id": "qqu9L0ip328H"
      },
      "source": [
        "\n",
        "<details>\n",
        "<summary><h4><strong>Hint 1</strong></h4></summary>\n",
        "\n",
        "Build a table to compare the performance of the models. Create a DataFrame using the `pd.DataFrame()` function.\n",
        "\n",
        "</details>"
      ],
      "id": "qqu9L0ip328H"
    },
    {
      "cell_type": "markdown",
      "metadata": {
        "id": "trUO9XEHbXG6"
      },
      "source": [
        "**Question:** How does the random forest model compare to the decision tree model you built in the previous lab?\n",
        "\n",
        "The tuned random forest has higher scores overall, so it is the better model. Particularly, it shows a better F1 score than the decision tree model, which indicates that the random forest model may do better at classification when taking into account false positives and false negatives.\n",
        "\n"
      ],
      "id": "trUO9XEHbXG6"
    },
    {
      "cell_type": "markdown",
      "metadata": {
        "id": "okMTunOhpotF"
      },
      "source": [
        "## **Considerations**\n",
        "\n",
        "\n",
        "**What are the key takeaways from this lab?**\n",
        "- Data exploring, cleaning, and encoding are necessary for model building.\n",
        "- A separate validation set is typically used for tuning a model, rather than using the test set. This also helps avoid the evaluation becoming biased.\n",
        "-  F1 scores are usually more useful than accuracy scores. If the cost of false positives and false negatives are very different, it’s better to use the F1 score and combine the information from precision and recall.\n",
        "* The random forest model yields a more effective performance than a decision tree model.\n",
        "\n",
        "**What summary would you provide to stakeholders?**\n",
        "* The random forest model predicted satisfaction with more than 94.2% accuracy. The precision is over 95% and the recall is approximately 94.5%.\n",
        "* The random forest model outperformed the tuned decision tree with the best hyperparameters in most of the four scores. This indicates that the random forest model may perform better.\n",
        "* Because stakeholders were interested in learning about the factors that are most important to customer satisfaction, this would be shared based on the tuned random forest.\n",
        "* In addition, you would provide details about the precision, recall, accuracy, and F1 scores to support your findings."
      ],
      "id": "okMTunOhpotF"
    }
  ],
  "metadata": {
    "colab": {
      "provenance": [],
      "include_colab_link": true
    },
    "gpuClass": "standard",
    "kernelspec": {
      "display_name": "Python 3",
      "language": "python",
      "name": "python3"
    },
    "language_info": {
      "codemirror_mode": {
        "name": "ipython",
        "version": 3
      },
      "file_extension": ".py",
      "mimetype": "text/x-python",
      "name": "python",
      "nbconvert_exporter": "python",
      "pygments_lexer": "ipython3",
      "version": "3.7.6"
    }
  },
  "nbformat": 4,
  "nbformat_minor": 5
}